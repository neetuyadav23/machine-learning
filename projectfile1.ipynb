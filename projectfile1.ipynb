{
 "cells": [
  {
   "cell_type": "markdown",
   "id": "447d57a8-95c7-41fa-9d86-c7255772a886",
   "metadata": {},
   "source": [
    "# House Price Prediction Project"
   ]
  },
  {
   "cell_type": "code",
   "execution_count": null,
   "id": "80ad6871-6654-4ebc-a24d-23ac83f95bb3",
   "metadata": {},
   "outputs": [],
   "source": []
  }
 ],
 "metadata": {
  "kernelspec": {
   "display_name": "Python 3 (ipykernel)",
   "language": "python",
   "name": "python3"
  },
  "language_info": {
   "codemirror_mode": {
    "name": "ipython",
    "version": 3
   },
   "file_extension": ".py",
   "mimetype": "text/x-python",
   "name": "python",
   "nbconvert_exporter": "python",
   "pygments_lexer": "ipython3",
   "version": "3.12.4"
  }
 },
 "nbformat": 4,
 "nbformat_minor": 5
}
